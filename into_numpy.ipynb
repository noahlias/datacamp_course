{
 "cells": [
  {
   "cell_type": "code",
   "execution_count": 1,
   "metadata": {},
   "outputs": [],
   "source": [
    "import matplotlib.pyplot as plt\n",
    "import numpy as np\n",
    "import pandas as pd"
   ]
  },
  {
   "cell_type": "code",
   "execution_count": 2,
   "metadata": {},
   "outputs": [
    {
     "data": {
      "text/plain": [
       "array([[0., 0., 0., 0.],\n",
       "       [0., 0., 0., 0.]])"
      ]
     },
     "execution_count": 2,
     "metadata": {},
     "output_type": "execute_result"
    }
   ],
   "source": [
    "a = np.zeros((2,4))\n",
    "a"
   ]
  },
  {
   "cell_type": "code",
   "execution_count": 3,
   "metadata": {},
   "outputs": [
    {
     "name": "stdout",
     "output_type": "stream",
     "text": [
      "[[0.80200593 0.31708176 0.1558307  0.71565534 0.69713755 0.42659209]\n",
      " [0.19934622 0.61720106 0.45298144 0.36444326 0.87076231 0.06523447]\n",
      " [0.79867318 0.48482382 0.30815086 0.33770936 0.33960956 0.52451862]]\n"
     ]
    }
   ],
   "source": [
    "random_array = np.random.random((3,6))\n",
    "print(random_array)"
   ]
  },
  {
   "cell_type": "code",
   "execution_count": 4,
   "metadata": {},
   "outputs": [
    {
     "data": {
      "image/png": "[encoded data removed]",
      "text/plain": [
       "<Figure size 432x288 with 1 Axes>"
      ]
     },
     "metadata": {
      "needs_background": "light"
     },
     "output_type": "display_data"
    }
   ],
   "source": [
    "# Create an array of integers from one to ten\n",
    "one_to_ten = np.arange(1,11)\n",
    "doubling_array = [1, 2, 4, 8, 16, 32, 64, 128, 256, 512]\n",
    "# Create your scatterplot\n",
    "plt.scatter(one_to_ten, doubling_array)\n",
    "\n",
    "plt.show()"
   ]
  },
  {
   "cell_type": "code",
   "execution_count": 6,
   "metadata": {},
   "outputs": [],
   "source": [
    "sudoku_game = np.array(\n",
    "    [\n",
    "        [0, 0, 4, 3, 0, 0, 2, 0, 9],\n",
    "        [0, 0, 5, 0, 0, 9, 0, 0, 1],\n",
    "        [0, 7, 0, 0, 6, 0, 0, 4, 3],\n",
    "        [0, 0, 6, 0, 0, 2, 0, 8, 7],\n",
    "        [1, 9, 0, 0, 0, 7, 4, 0, 0],\n",
    "        [0, 5, 0, 0, 8, 3, 0, 0, 0],\n",
    "        [6, 0, 0, 0, 0, 0, 1, 0, 5],\n",
    "        [0, 0, 3, 5, 0, 8, 6, 9, 0],\n",
    "        [0, 4, 2, 9, 1, 0, 3, 0, 0],\n",
    "    ]\n",
    ")\n",
    "\n",
    "sudoku_solution = np.array(\n",
    "    [\n",
    "        [8, 6, 4, 3, 7, 1, 2, 5, 9],\n",
    "        [3, 2, 5, 8, 4, 9, 7, 6, 1],\n",
    "        [9, 7, 1, 2, 6, 5, 8, 4, 3],\n",
    "        [4, 3, 6, 1, 9, 2, 5, 8, 7],\n",
    "        [1, 9, 8, 6, 5, 7, 4, 3, 2],\n",
    "        [2, 5, 7, 4, 8, 3, 9, 1, 6],\n",
    "        [6, 8, 9, 7, 3, 4, 1, 2, 5],\n",
    "        [7, 1, 3, 5, 2, 8, 6, 9, 4],\n",
    "        [5, 4, 2, 9, 1, 6, 3, 7, 8],\n",
    "    ]\n",
    ")\n"
   ]
  },
  {
   "cell_type": "code",
   "execution_count": 7,
   "metadata": {},
   "outputs": [
    {
     "name": "stdout",
     "output_type": "stream",
     "text": [
      "[[[0 0 4 3 0 0 2 0 9]\n",
      "  [0 0 5 0 0 9 0 0 1]\n",
      "  [0 7 0 0 6 0 0 4 3]\n",
      "  [0 0 6 0 0 2 0 8 7]\n",
      "  [1 9 0 0 0 7 4 0 0]\n",
      "  [0 5 0 0 8 3 0 0 0]\n",
      "  [6 0 0 0 0 0 1 0 5]\n",
      "  [0 0 3 5 0 8 6 9 0]\n",
      "  [0 4 2 9 1 0 3 0 0]]\n",
      "\n",
      " [[8 6 4 3 7 1 2 5 9]\n",
      "  [3 2 5 8 4 9 7 6 1]\n",
      "  [9 7 1 2 6 5 8 4 3]\n",
      "  [4 3 6 1 9 2 5 8 7]\n",
      "  [1 9 8 6 5 7 4 3 2]\n",
      "  [2 5 7 4 8 3 9 1 6]\n",
      "  [6 8 9 7 3 4 1 2 5]\n",
      "  [7 1 3 5 2 8 6 9 4]\n",
      "  [5 4 2 9 1 6 3 7 8]]]\n"
     ]
    }
   ],
   "source": [
    "game_and_solution = np.stack((sudoku_game,sudoku_solution))\n",
    "\n",
    "# Print game_and_solution\n",
    "print(game_and_solution) "
   ]
  },
  {
   "cell_type": "code",
   "execution_count": 15,
   "metadata": {},
   "outputs": [
    {
     "name": "stdout",
     "output_type": "stream",
     "text": [
      "[[[0 0 4 3 0 0 2 0 9]\n",
      "  [0 0 5 0 0 9 0 0 1]\n",
      "  [0 7 0 0 6 0 0 4 3]\n",
      "  [0 0 6 0 0 2 0 8 7]\n",
      "  [1 9 0 0 0 7 4 0 0]\n",
      "  [0 5 0 0 8 3 0 0 0]\n",
      "  [6 0 0 0 0 0 1 0 5]\n",
      "  [0 0 3 5 0 8 6 9 0]\n",
      "  [0 4 2 9 1 0 3 0 0]]\n",
      "\n",
      " [[8 6 4 3 7 1 2 5 9]\n",
      "  [3 2 5 8 4 9 7 6 1]\n",
      "  [9 7 1 2 6 5 8 4 3]\n",
      "  [4 3 6 1 9 2 5 8 7]\n",
      "  [1 9 8 6 5 7 4 3 2]\n",
      "  [2 5 7 4 8 3 9 1 6]\n",
      "  [6 8 9 7 3 4 1 2 5]\n",
      "  [7 1 3 5 2 8 6 9 4]\n",
      "  [5 4 2 9 1 6 3 7 8]]]\n"
     ]
    }
   ],
   "source": [
    "# Create the game_and_solution 3D array\n",
    "game_and_solution = np.array([sudoku_game, sudoku_solution])\n",
    "\n",
    "# Print game_and_solution\n",
    "print(game_and_solution) "
   ]
  },
  {
   "cell_type": "code",
   "execution_count": 8,
   "metadata": {},
   "outputs": [],
   "source": [
    "new_sudoku_game = np.array(\n",
    "    [\n",
    "        [0, 0, 4, 3, 0, 0, 0, 0, 0],\n",
    "        [8, 9, 0, 2, 0, 0, 6, 7, 0],\n",
    "        [7, 0, 0, 9, 0, 0, 0, 5, 0],\n",
    "        [5, 0, 0, 0, 0, 8, 1, 4, 0],\n",
    "        [0, 7, 0, 0, 3, 2, 0, 6, 0],\n",
    "        [6, 0, 0, 0, 0, 1, 3, 0, 8],\n",
    "        [0, 0, 1, 7, 5, 0, 9, 0, 0],\n",
    "        [0, 0, 5, 0, 4, 0, 0, 1, 2],\n",
    "        [9, 8, 0, 0, 0, 6, 0, 0, 5],\n",
    "    ]\n",
    ")\n",
    "\n",
    "new_sudoku_solution = np.array(\n",
    "    [\n",
    "        [2, 5, 4, 3, 6, 7, 8, 9, 1],\n",
    "        [8, 9, 3, 2, 1, 5, 6, 7, 4],\n",
    "        [7, 1, 6, 9, 8, 4, 2, 5, 3],\n",
    "        [5, 3, 2, 6, 9, 8, 1, 4, 7],\n",
    "        [1, 7, 8, 4, 3, 2, 5, 6, 9],\n",
    "        [6, 4, 9, 5, 7, 1, 3, 2, 8],\n",
    "        [4, 2, 1, 7, 5, 3, 9, 8, 6],\n",
    "        [3, 6, 5, 8, 4, 9, 7, 1, 2],\n",
    "        [9, 8, 7, 1, 2, 6, 4, 3, 5],\n",
    "    ]\n",
    ")\n"
   ]
  },
  {
   "cell_type": "code",
   "execution_count": 13,
   "metadata": {},
   "outputs": [
    {
     "name": "stdout",
     "output_type": "stream",
     "text": [
      "(2, 9, 9)\n",
      "(2, 2, 9, 9)\n"
     ]
    }
   ],
   "source": [
    "# Create a second 3D array of another game and its solution \n",
    "new_game_and_solution = np.stack((new_sudoku_game,new_sudoku_solution))\n",
    "\n",
    "print(new_game_and_solution.shape)\n",
    "# Create a 4D array of both game and solution 3D arrays\n",
    "games_and_solutions = np.stack((game_and_solution,new_game_and_solution))\n",
    "\n",
    "# Print the shape of your 4D array\n",
    "print(games_and_solutions.shape)"
   ]
  },
  {
   "cell_type": "code",
   "execution_count": 14,
   "metadata": {},
   "outputs": [
    {
     "name": "stdout",
     "output_type": "stream",
     "text": [
      "[0 0 4 3 0 0 2 0 9 0 0 5 0 0 9 0 0 1 0 7 0 0 6 0 0 4 3 0 0 6 0 0 2 0 8 7 1\n",
      " 9 0 0 0 7 4 0 0 0 5 0 0 8 3 0 0 0 6 0 0 0 0 0 1 0 5 0 0 3 5 0 8 6 9 0 0 4\n",
      " 2 9 1 0 3 0 0]\n"
     ]
    }
   ],
   "source": [
    "# Flatten sudoku_game\n",
    "flattened_game = sudoku_game.flatten()\n",
    "\n",
    "# Print the shape of flattened_game\n",
    "print(flattened_game)"
   ]
  },
  {
   "cell_type": "code",
   "execution_count": 16,
   "metadata": {},
   "outputs": [
    {
     "name": "stdout",
     "output_type": "stream",
     "text": [
      "[[0 0 4 3 0 0 2 0 9]\n",
      " [0 0 5 0 0 9 0 0 1]\n",
      " [0 7 0 0 6 0 0 4 3]\n",
      " [0 0 6 0 0 2 0 8 7]\n",
      " [1 9 0 0 0 7 4 0 0]\n",
      " [0 5 0 0 8 3 0 0 0]\n",
      " [6 0 0 0 0 0 1 0 5]\n",
      " [0 0 3 5 0 8 6 9 0]\n",
      " [0 4 2 9 1 0 3 0 0]]\n",
      "[[0 0 4 3 0 0 2 0 9]\n",
      " [0 0 5 0 0 9 0 0 1]\n",
      " [0 7 0 0 6 0 0 4 3]\n",
      " [0 0 6 0 0 2 0 8 7]\n",
      " [1 9 0 0 0 7 4 0 0]\n",
      " [0 5 0 0 8 3 0 0 0]\n",
      " [6 0 0 0 0 0 1 0 5]\n",
      " [0 0 3 5 0 8 6 9 0]\n",
      " [0 4 2 9 1 0 3 0 0]]\n"
     ]
    }
   ],
   "source": [
    "# Reshape flattened_game back to a nine by nine array\n",
    "reshaped_game = sudoku_game.reshape((9,9))\n",
    "\n",
    "# Print sudoku_game and reshaped_game\n",
    "print(sudoku_game)\n",
    "print(reshaped_game)"
   ]
  },
  {
   "cell_type": "code",
   "execution_count": 18,
   "metadata": {},
   "outputs": [
    {
     "name": "stdout",
     "output_type": "stream",
     "text": [
      "float64\n"
     ]
    }
   ],
   "source": [
    "# Create an array of zeros with three rows and two columns\n",
    "zero_array = np.zeros((3, 2))\n",
    "\n",
    "# Print the data type of zero_array\n",
    "print(zero_array.dtype)\n"
   ]
  },
  {
   "cell_type": "code",
   "execution_count": 22,
   "metadata": {},
   "outputs": [
    {
     "name": "stdout",
     "output_type": "stream",
     "text": [
      "int32\n"
     ]
    },
    {
     "data": {
      "text/plain": [
       "array([[0, 0],\n",
       "       [0, 0],\n",
       "       [0, 0]], dtype=int32)"
      ]
     },
     "execution_count": 22,
     "metadata": {},
     "output_type": "execute_result"
    }
   ],
   "source": [
    "# Create a new array of int32 zeros with three rows and two columns\n",
    "zero_int_array = np.zeros((3,2),np.int32)\n",
    "\n",
    "# Print the data type of zero_int_array\n",
    "print(zero_int_array.dtype)\n",
    "zero_int_array"
   ]
  },
  {
   "cell_type": "code",
   "execution_count": 24,
   "metadata": {},
   "outputs": [
    {
     "name": "stdout",
     "output_type": "stream",
     "text": [
      "int64\n"
     ]
    }
   ],
   "source": [
    "print(sudoku_game.dtype)"
   ]
  },
  {
   "cell_type": "code",
   "execution_count": 25,
   "metadata": {},
   "outputs": [
    {
     "name": "stdout",
     "output_type": "stream",
     "text": [
      "int8\n"
     ]
    }
   ],
   "source": [
    "# Change the data type of sudoku_game to int8\n",
    "small_sudoku_game = sudoku_game.astype(np.int8)\n",
    "\n",
    "# Print the data type of small_sudoku_game\n",
    "print(small_sudoku_game.dtype)"
   ]
  }
 ],
 "metadata": {
  "kernelspec": {
   "display_name": "Python 3",
   "language": "python",
   "name": "python3"
  },
  "language_info": {
   "codemirror_mode": {
    "name": "ipython",
    "version": 3
   },
   "file_extension": ".py",
   "mimetype": "text/x-python",
   "name": "python",
   "nbconvert_exporter": "python",
   "pygments_lexer": "ipython3",
   "version": "3.10.8 (main, Oct 15 2022, 01:49:41) [Clang 13.1.6 (clang-1316.0.21.2.5)]"
  },
  "orig_nbformat": 4,
  "vscode": {
   "interpreter": {
    "hash": "fdf4b327d656da71cfb92abe48ace8f3518c57cbf6e1ba5b645e4d3c0af74739"
   }
  }
 },
 "nbformat": 4,
 "nbformat_minor": 2
}
