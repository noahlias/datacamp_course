{
 "cells": [
  {
   "cell_type": "markdown",
   "metadata": {},
   "source": [
    "# Formula\n",
    "\n",
    "$$\n",
    " Y = b_{1}*X_{1} +b_{2}*X_{2} +b_{3}*X_{3}+b_{4}*(X_{4}-X_{3})+b_{5}*(X_{5}-X_{2})+b_{6}*(X_{6}-X_{5})+b_{7}*(X_{7}-X_{6})+b_{8}*(X_{8}-X_{7})+b_{9}*X_{9} + b_{10}*X_{10}\n",
    "$$\n",
    "\n",
    "- $b_{1}>=0$\n",
    "- $b_{2}>=0$\n",
    "- $b_{3}-b_{4}>=0$\n",
    "- $b_{4}>=0$\n",
    "- $b_{5}-b_{6}>=0$\n",
    "- $b_{6}-b_{7}>=0$\n",
    "- $b_{7}-b_{8}>=0$\n",
    "- $b_{8}>=0$\n",
    "- $-b_{9}>=0$\n",
    "- $b_{10}>=0$\n",
    "- $b_{2}-b_{5}>=0$\n",
    "- $b_{9}>=-0.4$\n",
    "- $b_{1}+b_{2}+b_{3}+b_{9}+b_{10}=1$"
   ]
  },
  {
   "cell_type": "markdown",
   "metadata": {},
   "source": [
    "# `Convert`\n",
    "\n",
    "$$\n",
    " Y = b_{1}*X_{1} +(b_{2}-b_{5})*X_{2} +(b_{3}-b_{4})*X_{3}+b_{4}*X_{4}+(b_{5}-b_{6})*X_{5}+(b_{6}-b_{7})\n",
    " *X_{6}+(b_{7}-b_{8})*X_{7}+b_{8}*X_{8}+b_{9}*X_{9} + b_{10}*X_{10}\n",
    "$$\n",
    "\n",
    "- $b_{1}>=0$\n",
    "- $b_{2}-b_{5}>=0$\n",
    "- $b_{3}-b_{4}>=0$\n",
    "- $b_{4}>=0$\n",
    "- $b_{5}-b_{6}>=0$\n",
    "- $b_{6}-b_{7}>=0$\n",
    "- $b_{7}-b_{8}>=0$\n",
    "- $b_{8}>=0$\n",
    "- $b_{9}>=0$\n",
    "- $b_{10}>=0$\n",
    "\n",
    "## `Summary`\n",
    "\n",
    "$$ b_{1}+ (b_{2}-b_{5}) +(b_{3}-b_{4})+b_{4}+(b_{5}-b_{6}) +(b_{6}-b_{7})+(b_{7}-b_{8})+b_{8}+b_{9}+b_{10} = 1 $$\n",
    "$$\\downdownarrows$$\n",
    "$$b_{1}+ b_{2}+b_{3} + b_{9}+b_{10} = 1 $$\n"
   ]
  },
  {
   "cell_type": "markdown",
   "metadata": {},
   "source": [
    "\n",
    "`The Multiple LinearRegression With Constrain`\n",
    "$$\n",
    " Y = \\sum_{i=1}^{i=10}b_{i}*X\n",
    "$$\n",
    "- $X$: (20,10) `Vector`(**Ten dimenson**)\n",
    "- $Y$: (20) `1 dimenson array`\n",
    "\n",
    "\n",
    "Constraints\n",
    "- $\\sum_{i=1}^{i=10}b_{i} =1$\n",
    "- $-0.4<=b_{9}<=0$\n",
    "\n",
    "[Reference](https://stackoverflow.com/questions/52589230/simple-linear-regression-with-constraint)\n"
   ]
  },
  {
   "cell_type": "code",
   "execution_count": 32,
   "metadata": {},
   "outputs": [
    {
     "data": {
      "text/plain": [
       "array([1.96070253e-01, 1.69924308e-01, 2.15046151e-02, 2.22645581e-01,\n",
       "       0.00000000e+00, 1.45268271e-01, 3.76624730e-17, 1.08096327e-01,\n",
       "       0.00000000e+00, 1.36490645e-01])"
      ]
     },
     "execution_count": 32,
     "metadata": {},
     "output_type": "execute_result"
    }
   ],
   "source": [
    "import numpy as np\n",
    "from scipy.optimize import minimize\n",
    "\n",
    "# Define the Model\n",
    "X = np.random.rand(20,10)\n",
    "y = np.random.rand(20)\n",
    "model = lambda b, X: sum(b[i]*X[:,i] for i in range(10))\n",
    "# The objective Function to minimize (least-squares regression)\n",
    "obj = lambda b, y, X: np.sum(np.abs(y-model(b, X))**2)\n",
    "# Bounds: b[0], b[1], b[2],b[i] >= 0\n",
    "bnds = [(0, 1) for _ in range(10)]\n",
    "bnds[8] = (-0.4,0)\n",
    "# Constraint: b[0] + b[1] + b[2]+...b[9] - 1 = 0\n",
    "cons = [{\"type\": \"eq\", \"fun\": lambda b: sum(b) - 1}]\n",
    "# Initial guess for b[0] b[1], b[2], b[3]..b[9]:\n",
    "xinit = np.array([0, 0, 1,0,0,0,0,0,0,0])\n",
    "res = minimize(obj, args=(y, X), x0=xinit, bounds=bnds, constraints=cons)\n",
    "res.x"
   ]
  },
  {
   "cell_type": "code",
   "execution_count": 33,
   "metadata": {},
   "outputs": [
    {
     "data": {
      "text/plain": [
       "     fun: 1.9089871272500312\n",
       "     jac: array([-1.81096631, -1.8109794 , -1.81094658, -1.81064616, -1.05142944,\n",
       "       -1.81110947, -1.69516055, -1.81083865, -2.04127891, -1.81139888])\n",
       " message: 'Optimization terminated successfully'\n",
       "    nfev: 134\n",
       "     nit: 12\n",
       "    njev: 12\n",
       "  status: 0\n",
       " success: True\n",
       "       x: array([1.96070253e-01, 1.69924308e-01, 2.15046151e-02, 2.22645581e-01,\n",
       "       0.00000000e+00, 1.45268271e-01, 3.76624730e-17, 1.08096327e-01,\n",
       "       0.00000000e+00, 1.36490645e-01])"
      ]
     },
     "execution_count": 33,
     "metadata": {},
     "output_type": "execute_result"
    }
   ],
   "source": [
    "res"
   ]
  },
  {
   "cell_type": "code",
   "execution_count": 30,
   "metadata": {},
   "outputs": [
    {
     "data": {
      "text/plain": [
       "1.0000000000000004"
      ]
     },
     "execution_count": 30,
     "metadata": {},
     "output_type": "execute_result"
    }
   ],
   "source": [
    "res.x.sum()"
   ]
  },
  {
   "cell_type": "code",
   "execution_count": 31,
   "metadata": {},
   "outputs": [
    {
     "data": {
      "text/plain": [
       "-0.3452500297928096"
      ]
     },
     "execution_count": 31,
     "metadata": {},
     "output_type": "execute_result"
    }
   ],
   "source": [
    "res.x[8]"
   ]
  }
 ],
 "metadata": {
  "kernelspec": {
   "display_name": "py3.10",
   "language": "python",
   "name": "python3"
  },
  "language_info": {
   "codemirror_mode": {
    "name": "ipython",
    "version": 3
   },
   "file_extension": ".py",
   "mimetype": "text/x-python",
   "name": "python",
   "nbconvert_exporter": "python",
   "pygments_lexer": "ipython3",
   "version": "3.10.5 | packaged by conda-forge | (main, Jun 14 2022, 07:05:37) [Clang 13.0.1 ]"
  },
  "orig_nbformat": 4,
  "vscode": {
   "interpreter": {
    "hash": "e13081a7067bd9270211bbad6ad50b82adaccd5e0e8235d69fe9cef2646a143d"
   }
  }
 },
 "nbformat": 4,
 "nbformat_minor": 2
}
