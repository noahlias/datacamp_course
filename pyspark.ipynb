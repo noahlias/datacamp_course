{
 "cells": [
  {
   "cell_type": "code",
   "execution_count": 6,
   "metadata": {},
   "outputs": [],
   "source": [
    "from pyspark.context import SparkContext\n",
    "\n",
    "from pyspark.sql import SparkSession"
   ]
  },
  {
   "cell_type": "code",
   "execution_count": 4,
   "metadata": {},
   "outputs": [
    {
     "name": "stdout",
     "output_type": "stream",
     "text": [
      "<class 'pyspark.context.SparkContext'>\n",
      "<property object at 0x109185a80>\n"
     ]
    }
   ],
   "source": [
    "# Verify SparkContext\n",
    "print(sc)\n",
    "\n",
    "# Print Spark version\n",
    "print(sc.version)"
   ]
  },
  {
   "cell_type": "code",
   "execution_count": 7,
   "metadata": {},
   "outputs": [
    {
     "name": "stdout",
     "output_type": "stream",
     "text": [
      "22/10/17 01:03:01 WARN Utils: Your hostname, AliasMacBook-Pro.local resolves to a loopback address: 127.0.0.1; using 192.168.10.4 instead (on interface en0)\n",
      "22/10/17 01:03:01 WARN Utils: Set SPARK_LOCAL_IP if you need to bind to another address\n"
     ]
    },
    {
     "name": "stderr",
     "output_type": "stream",
     "text": [
      "Setting default log level to \"WARN\".\n",
      "To adjust logging level use sc.setLogLevel(newLevel). For SparkR, use setLogLevel(newLevel).\n"
     ]
    },
    {
     "name": "stdout",
     "output_type": "stream",
     "text": [
      "22/10/17 01:03:02 WARN NativeCodeLoader: Unable to load native-hadoop library for your platform... using builtin-java classes where applicable\n",
      "<pyspark.sql.session.SparkSession object at 0x109e5a350>\n"
     ]
    }
   ],
   "source": [
    "# Create my_spark\n",
    "my_spark = SparkSession.builder.getOrCreate()\n",
    "\n",
    "# Print my_spark\n",
    "print(my_spark)"
   ]
  },
  {
   "cell_type": "code",
   "execution_count": 8,
   "metadata": {},
   "outputs": [
    {
     "name": "stdout",
     "output_type": "stream",
     "text": [
      "[]\n"
     ]
    }
   ],
   "source": [
    "# Print the tables in the catalog\n",
    "print(my_spark.catalog.listTables())"
   ]
  },
  {
   "cell_type": "code",
   "execution_count": 11,
   "metadata": {},
   "outputs": [
    {
     "name": "stdout",
     "output_type": "stream",
     "text": [
      "total 3256\n",
      "drwxr-xr-x  20 alias  staff     640 Oct 17 01:04 \u001b[1m\u001b[36m.\u001b[m\u001b[m\n",
      "drwxr-xr-x  28 alias  staff     896 Oct 16 10:20 \u001b[1m\u001b[36m..\u001b[m\u001b[m\n",
      "-rw-r--r--@  1 alias  staff    6148 Oct 14 00:02 .DS_Store\n",
      "drwxr-xr-x  14 alias  staff     448 Oct 17 00:59 \u001b[1m\u001b[36m.git\u001b[m\u001b[m\n",
      "-rw-r--r--   1 alias  staff    3078 Oct 13 23:11 .gitignore\n",
      "drwxr-xr-x   2 alias  staff      64 Oct 17 00:59 \u001b[1m\u001b[36m.ipynb_checkpoints\u001b[m\u001b[m\n",
      "drwxr-xr-x   3 alias  staff      96 Oct 15 09:48 \u001b[1m\u001b[36m.vscode\u001b[m\u001b[m\n",
      "-rw-r--r--   1 alias  staff    1068 Oct 13 23:08 LICENSE\n",
      "drwxr-xr-x  34 alias  staff    1088 Oct 16 15:44 \u001b[1m\u001b[36mdata\u001b[m\u001b[m\n",
      "-rw-r--r--   1 alias  staff  338734 Oct 16 00:35 data-manipulation-with-pandas.ipynb\n",
      "-rw-r--r--   1 alias  staff       0 Oct 16 11:06 dataengineer.ipynb\n",
      "-rw-r--r--   1 alias  staff  525713 Oct 16 10:31 datascience_intro.ipynb\n",
      "-rw-r--r--   1 alias  staff       0 Oct 16 11:06 matplotlib_visualization.ipynb\n",
      "-rw-r--r--   1 alias  staff  606817 Oct 14 18:48 portfolio_risk_management.ipynb\n",
      "-rw-r--r--   1 alias  staff    2963 Oct 17 01:06 pyspark.ipynb\n",
      "-rw-r--r--   1 alias  staff     277 Oct 14 18:48 readme.md\n",
      "-rw-r--r--   1 alias  staff  158602 Oct 16 15:46 scikit_learn.ipynb\n",
      "-rw-r--r--   1 alias  staff     575 Oct 16 15:49 seaborn.ipynb\n",
      "drwxr-xr-x   2 alias  staff      64 Oct 17 01:04 \u001b[1m\u001b[36mspark-warehouse\u001b[m\u001b[m\n",
      "-rw-r--r--   1 alias  staff       0 Oct 16 11:01 statistics.ipynb\n"
     ]
    }
   ],
   "source": [
    "!ls -al"
   ]
  },
  {
   "cell_type": "markdown",
   "metadata": {},
   "source": [
    "$$\n",
    "\\left( \\begin{matrix} -2 & 1 & 2 \\\\ -1 & 2 & 2 \\\\ -2 & 2 & 3 \\end{matrix} \\right)^k \\left( \\begin{matrix} 3 \\\\ 4 \\\\ 5 \\end{matrix} \\right)\n",
    "$$"
   ]
  },
  {
   "cell_type": "markdown",
   "metadata": {},
   "source": [
    "$$\\begin{bmatrix}\n",
    "{a_{11}}&{a_{12}}&{\\cdots}&{a_{1n}}\\\\\n",
    "{a_{21}}&{a_{22}}&{\\cdots}&{a_{2n}}\\\\\n",
    "{\\vdots}&{\\vdots}&{\\ddots}&{\\vdots}\\\\\n",
    "{a_{m1}}&{a_{m2}}&{\\cdots}&{a_{mn}}\\\\\n",
    "\\end{bmatrix}$$"
   ]
  }
 ],
 "metadata": {
  "kernelspec": {
   "display_name": "py3.10",
   "language": "python",
   "name": "python3"
  },
  "language_info": {
   "codemirror_mode": {
    "name": "ipython",
    "version": 3
   },
   "file_extension": ".py",
   "mimetype": "text/x-python",
   "name": "python",
   "nbconvert_exporter": "python",
   "pygments_lexer": "ipython3",
   "version": "3.10.5"
  },
  "orig_nbformat": 4,
  "vscode": {
   "interpreter": {
    "hash": "e13081a7067bd9270211bbad6ad50b82adaccd5e0e8235d69fe9cef2646a143d"
   }
  }
 },
 "nbformat": 4,
 "nbformat_minor": 2
}
